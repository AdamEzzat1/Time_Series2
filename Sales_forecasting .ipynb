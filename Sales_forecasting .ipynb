{
 "cells": [
  {
   "cell_type": "code",
   "execution_count": null,
   "id": "4aed5d2c",
   "metadata": {},
   "outputs": [],
   "source": [
    "# Calculate moving averages for forecasting\n",
    "bitcoin_data['MA_Weighted_Price'] = bitcoin_data['Weighted_Price'].rolling(window=50, min_periods=1).mean()\n",
    "\n",
    "# Differences between actual and moving average\n",
    "bitcoin_data['MA_Difference'] = bitcoin_data['Weighted_Price'] - bitcoin_data['MA_Weighted_Price']\n",
    "\n",
    "# Filter rows where the forecasted results are different from the actual Weighted_Price\n",
    "ma_filtered_data = bitcoin_data[bitcoin_data['MA_Difference'] != 0]\n",
    "\n",
    "# Plot\n",
    "plt.figure(figsize=(10, 5), facecolor='white')\n",
    "plt.plot(bitcoin_data['Timestamp'], bitcoin_data['Weighted_Price'], label='Actual Weighted Price')\n",
    "plt.plot(bitcoin_data['Timestamp'], bitcoin_data['MA_Weighted_Price'], label='Moving Average Predicted Price', linestyle='--')\n",
    "plt.legend()\n",
    "plt.title('Actual vs Moving Average Predicted Weighted Price')\n",
    "plt.xlabel('Timestamp')\n",
    "plt.ylabel('Weighted Price')\n",
    "plt.xticks(rotation=45)\n",
    "plt.tight_layout()\n",
    "plt.show()\n",
    "\n",
    "# Display the filtered data\n",
    "ma_filtered_data.head()"
   ]
  },
  {
   "cell_type": "code",
   "execution_count": null,
   "id": "8b602cf1",
   "metadata": {},
   "outputs": [],
   "source": [
    "# Calculate moving averages for forecasting\n",
    "bitcoin_data['MA_Weighted_Price'] = bitcoin_data['Weighted_Price'].rolling(window=50, min_periods=1).mean()\n",
    "\n",
    "# Differences between actual and moving average\n",
    "bitcoin_data['MA_Difference'] = bitcoin_data['Weighted_Price'] - bitcoin_data['MA_Weighted_Price']\n",
    "\n",
    "# Filter rows where the forecasted results are different from the actual Weighted_Price\n",
    "ma_filtered_data = bitcoin_data[bitcoin_data['MA_Difference'] != 0]\n",
    "\n",
    "# Plot\n",
    "plt.figure(figsize=(10, 5), facecolor='white')\n",
    "plt.plot(bitcoin_data['Timestamp'], bitcoin_data['Weighted_Price'], label='Actual Weighted Price')\n",
    "plt.plot(bitcoin_data['Timestamp'], bitcoin_data['MA_Weighted_Price'], label='Moving Average Predicted Price', linestyle='--')\n",
    "plt.legend()\n",
    "plt.title('Actual vs Moving Average Predicted Weighted Price')\n",
    "plt.xlabel('Timestamp')\n",
    "plt.ylabel('Weighted Price')\n",
    "plt.xticks(rotation=45)\n",
    "plt.tight_layout()\n",
    "plt.show()\n",
    "\n",
    "# Display the filtered data\n",
    "ma_filtered_data.head()"
   ]
  },
  {
   "cell_type": "code",
   "execution_count": null,
   "id": "c69fdf20",
   "metadata": {},
   "outputs": [],
   "source": []
  },
  {
   "cell_type": "code",
   "execution_count": null,
   "id": "222deb34",
   "metadata": {},
   "outputs": [],
   "source": []
  }
 ],
 "metadata": {
  "kernelspec": {
   "display_name": "Python 3 (ipykernel)",
   "language": "python",
   "name": "python3"
  },
  "language_info": {
   "codemirror_mode": {
    "name": "ipython",
    "version": 3
   },
   "file_extension": ".py",
   "mimetype": "text/x-python",
   "name": "python",
   "nbconvert_exporter": "python",
   "pygments_lexer": "ipython3",
   "version": "3.9.12"
  }
 },
 "nbformat": 4,
 "nbformat_minor": 5
}
