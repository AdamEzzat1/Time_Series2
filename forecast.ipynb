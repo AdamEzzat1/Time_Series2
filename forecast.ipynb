{
 "cells": [
  {
   "cell_type": "code",
   "execution_count": null,
   "id": "4cc892ba",
   "metadata": {},
   "outputs": [],
   "source": [
    "import matplotlib.pyplot as plt\n",
    "\n",
    "# Plotting the data points\n",
    "plt.figure(figsize=(10, 6), facecolor='white')\n",
    "plt.scatter(X['Excel_Timestamp'], y, color='blue', label='Actual Weighted Prices')\n",
    "\n",
    "# Plotting the regression line\n",
    "plt.plot(X['Excel_Timestamp'], model.predict(X), color='red', linewidth=2, label='Regression Line')\n",
    "\n",
    "# Highlighting the forecasted point\n",
    "plt.scatter(future_date, prediction_lr, color='green', label='Forecasted Point for Row 189')\n",
    "plt.title('Linear Regression Forecast')\n",
    "plt.xlabel('Excel Timestamp')\n",
    "plt.ylabel('Weighted Price')\n",
    "plt.legend()\n",
    "plt.grid(True)\n",
    "plt.show()"
   ]
  },
  {
   "cell_type": "code",
   "execution_count": null,
   "id": "6a57b155",
   "metadata": {},
   "outputs": [],
   "source": [
    "# Load the data\n",
    "model_df = pd.read_csv('bitcoin_2.csv')\n",
    "model_df['Timestamp'] = pd.to_datetime(model_df['Timestamp'])\n",
    "model_df['Excel_Timestamp'] = model_df['Timestamp'].apply(excel_date)\n",
    "\n",
    "# Prepare the data for modeling up to row 3500\n",
    "X_full = model_df.loc[:3499, ['Excel_Timestamp']]  # Independent variable\n",
    "y_full = model_df.loc[:3499, 'Weighted_Price']     # Dependent variable\n",
    "\n",
    "# Fit the linear regression model on full data\n",
    "model_full = LinearRegression()\n",
    "model_full.fit(X_full, y_full)\n",
    "\n",
    "# Predict the values for all rows up to 3500\n",
    "predictions_full = model_full.predict(X_full)\n",
    "\n",
    "# Compare actual and forecasted results\n",
    "comparison_df = pd.DataFrame({'Actual': y_full, 'Forecasted': predictions_full})\n",
    "comparison_df['Difference'] = comparison_df['Actual'] - comparison_df['Forecasted']\n",
    "\n",
    "# Filter out rows where forecasted results are the same as actual\n",
    "significant_diff = comparison_df[comparison_df['Difference'] != 0]\n",
    "\n",
    "print(significant_diff)"
   ]
  },
  {
   "cell_type": "code",
   "execution_count": null,
   "id": "13d4e12f",
   "metadata": {},
   "outputs": [],
   "source": [
    "# Load the data\n",
    "model_df = pd.read_csv('bitcoin_2.csv')\n",
    "model_df['Timestamp'] = pd.to_datetime(model_df['Timestamp'])\n",
    "model_df['Excel_Timestamp'] = model_df['Timestamp'].apply(excel_date)\n",
    "\n",
    "# Prepare the data for modeling up to row 3500\n",
    "X_full = model_df.loc[:3499, ['Excel_Timestamp']]  # Independent variable\n",
    "y_full = model_df.loc[:3499, 'Weighted_Price']     # Dependent variable\n",
    "\n",
    "# Fit the linear regression model on full data\n",
    "model_full = LinearRegression()\n",
    "model_full.fit(X_full, y_full)\n",
    "\n",
    "# Predict the values for all rows up to 3500\n",
    "predictions_full = model_full.predict(X_full)\n",
    "\n",
    "# Compare actual and forecasted results\n",
    "comparison_df = pd.DataFrame({'Actual': y_full, 'Forecasted': predictions_full})\n",
    "comparison_df['Difference'] = comparison_df['Actual'] - comparison_df['Forecasted']\n",
    "\n",
    "# Filter out rows where forecasted results are the same as actual\n",
    "significant_diff = comparison_df[comparison_df['Difference'] != 0]\n",
    "\n",
    "print(significant_diff)"
   ]
  }
 ],
 "metadata": {
  "kernelspec": {
   "display_name": "Python 3 (ipykernel)",
   "language": "python",
   "name": "python3"
  },
  "language_info": {
   "codemirror_mode": {
    "name": "ipython",
    "version": 3
   },
   "file_extension": ".py",
   "mimetype": "text/x-python",
   "name": "python",
   "nbconvert_exporter": "python",
   "pygments_lexer": "ipython3",
   "version": "3.9.12"
  }
 },
 "nbformat": 4,
 "nbformat_minor": 5
}
